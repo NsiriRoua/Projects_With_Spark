{
 "cells": [
  {
   "cell_type": "code",
   "execution_count": 7,
   "id": "f709445b",
   "metadata": {},
   "outputs": [],
   "source": [
    "import findspark\n",
    "\n",
    "findspark.init()"
   ]
  },
  {
   "cell_type": "code",
   "execution_count": 8,
   "id": "09845631",
   "metadata": {},
   "outputs": [],
   "source": [
    "from pyspark.sql.types import *"
   ]
  },
  {
   "cell_type": "code",
   "execution_count": 9,
   "id": "74d103c3",
   "metadata": {},
   "outputs": [],
   "source": [
    "from pyspark.sql import SparkSession\n",
    "spark = SparkSession.builder.master(\"local\").appName(\"recommendation_system\").getOrCreate()"
   ]
  },
  {
   "cell_type": "markdown",
   "id": "75b7c1b8",
   "metadata": {},
   "source": [
    "## Movies dataset"
   ]
  },
  {
   "cell_type": "code",
   "execution_count": 10,
   "id": "3a877a01",
   "metadata": {},
   "outputs": [],
   "source": [
    "path='movies.csv'"
   ]
  },
  {
   "cell_type": "code",
   "execution_count": 11,
   "id": "10454f7c",
   "metadata": {},
   "outputs": [],
   "source": [
    "df=spark.read.csv(path,header=True)"
   ]
  },
  {
   "cell_type": "code",
   "execution_count": 12,
   "id": "7de2330e",
   "metadata": {},
   "outputs": [
    {
     "data": {
      "text/plain": [
       "<bound method DataFrame.show of DataFrame[movieId: string, title: string, genres: string]>"
      ]
     },
     "execution_count": 12,
     "metadata": {},
     "output_type": "execute_result"
    }
   ],
   "source": [
    "df.show"
   ]
  },
  {
   "cell_type": "markdown",
   "id": "65f1f861",
   "metadata": {},
   "source": [
    "We need to create a schema to ensure that each column has the desired data type .\n",
    "\n",
    "For this , we will create StructType and add StructFields to it with the targeted data type. Then we will pass this schema when we read the file from the local machine and also put header = True ( It will make the first line of the CSV file as the column name of the table and it is False by default, leaving default column names like _c0,_c1 if not set True)."
   ]
  },
  {
   "cell_type": "code",
   "execution_count": 13,
   "id": "fd58f46c",
   "metadata": {},
   "outputs": [],
   "source": [
    "schema=(StructType().add(\"movieId\",IntegerType()).add(\"title\",StringType()).add(\"genres\",StringType()))"
   ]
  },
  {
   "cell_type": "code",
   "execution_count": 14,
   "id": "ec8b4dc3",
   "metadata": {},
   "outputs": [],
   "source": [
    "moviesdf=spark.read.csv(path,schema=schema,header=True)"
   ]
  },
  {
   "cell_type": "code",
   "execution_count": 15,
   "id": "10436498",
   "metadata": {},
   "outputs": [
    {
     "data": {
      "text/plain": [
       "<bound method DataFrame.show of DataFrame[movieId: int, title: string, genres: string]>"
      ]
     },
     "execution_count": 15,
     "metadata": {},
     "output_type": "execute_result"
    }
   ],
   "source": [
    "moviesdf.show"
   ]
  },
  {
   "cell_type": "code",
   "execution_count": 16,
   "id": "b7750516",
   "metadata": {
    "scrolled": true
   },
   "outputs": [
    {
     "name": "stdout",
     "output_type": "stream",
     "text": [
      "+-------+--------------------+--------------------+\n",
      "|movieId|               title|              genres|\n",
      "+-------+--------------------+--------------------+\n",
      "|      1|    Toy Story (1995)|Adventure|Animati...|\n",
      "|      2|      Jumanji (1995)|Adventure|Childre...|\n",
      "|      3|Grumpier Old Men ...|      Comedy|Romance|\n",
      "|      4|Waiting to Exhale...|Comedy|Drama|Romance|\n",
      "|      5|Father of the Bri...|              Comedy|\n",
      "|      6|         Heat (1995)|Action|Crime|Thri...|\n",
      "|      7|      Sabrina (1995)|      Comedy|Romance|\n",
      "|      8| Tom and Huck (1995)|  Adventure|Children|\n",
      "|      9| Sudden Death (1995)|              Action|\n",
      "|     10|    GoldenEye (1995)|Action|Adventure|...|\n",
      "|     11|American Presiden...|Comedy|Drama|Romance|\n",
      "|     12|Dracula: Dead and...|       Comedy|Horror|\n",
      "|     13|        Balto (1995)|Adventure|Animati...|\n",
      "|     14|        Nixon (1995)|               Drama|\n",
      "|     15|Cutthroat Island ...|Action|Adventure|...|\n",
      "|     16|       Casino (1995)|         Crime|Drama|\n",
      "|     17|Sense and Sensibi...|       Drama|Romance|\n",
      "|     18|   Four Rooms (1995)|              Comedy|\n",
      "|     19|Ace Ventura: When...|              Comedy|\n",
      "|     20|  Money Train (1995)|Action|Comedy|Cri...|\n",
      "+-------+--------------------+--------------------+\n",
      "only showing top 20 rows\n",
      "\n"
     ]
    }
   ],
   "source": [
    "moviesdf.show()"
   ]
  },
  {
   "cell_type": "markdown",
   "id": "5c0aad05",
   "metadata": {},
   "source": [
    "withColumn is used to create a new column in the dataframe with some condition or just populating constant values. If column exists already as in this case (genre column) we can populate it with some condition passed alongside it."
   ]
  },
  {
   "cell_type": "code",
   "execution_count": 17,
   "id": "81d99067",
   "metadata": {},
   "outputs": [],
   "source": [
    "from pyspark.sql.functions import split,explode"
   ]
  },
  {
   "cell_type": "code",
   "execution_count": 18,
   "id": "432a7de5",
   "metadata": {},
   "outputs": [
    {
     "name": "stdout",
     "output_type": "stream",
     "text": [
      "+-------+--------------------+---------+\n",
      "|movieId|               title|   genres|\n",
      "+-------+--------------------+---------+\n",
      "|      1|    Toy Story (1995)|Adventure|\n",
      "|      1|    Toy Story (1995)|Animation|\n",
      "|      1|    Toy Story (1995)| Children|\n",
      "|      1|    Toy Story (1995)|   Comedy|\n",
      "|      1|    Toy Story (1995)|  Fantasy|\n",
      "|      2|      Jumanji (1995)|Adventure|\n",
      "|      2|      Jumanji (1995)| Children|\n",
      "|      2|      Jumanji (1995)|  Fantasy|\n",
      "|      3|Grumpier Old Men ...|   Comedy|\n",
      "|      3|Grumpier Old Men ...|  Romance|\n",
      "|      4|Waiting to Exhale...|   Comedy|\n",
      "|      4|Waiting to Exhale...|    Drama|\n",
      "|      4|Waiting to Exhale...|  Romance|\n",
      "|      5|Father of the Bri...|   Comedy|\n",
      "|      6|         Heat (1995)|   Action|\n",
      "|      6|         Heat (1995)|    Crime|\n",
      "|      6|         Heat (1995)| Thriller|\n",
      "|      7|      Sabrina (1995)|   Comedy|\n",
      "|      7|      Sabrina (1995)|  Romance|\n",
      "|      8| Tom and Huck (1995)|Adventure|\n",
      "+-------+--------------------+---------+\n",
      "only showing top 20 rows\n",
      "\n"
     ]
    }
   ],
   "source": [
    "moviesdf.withColumn(\"genres\",explode(split(\"genres\",\"[|]\"))).show()"
   ]
  },
  {
   "cell_type": "markdown",
   "id": "5cdcec7f",
   "metadata": {},
   "source": [
    "We will filter the dataframe according to our condition"
   ]
  },
  {
   "cell_type": "code",
   "execution_count": 19,
   "id": "fcf24243",
   "metadata": {},
   "outputs": [
    {
     "name": "stdout",
     "output_type": "stream",
     "text": [
      "+-------+--------------------+------------------+\n",
      "|movieId|               title|            genres|\n",
      "+-------+--------------------+------------------+\n",
      "| 114335|   La cravate (1957)|(no genres listed)|\n",
      "| 122888|      Ben-hur (2016)|(no genres listed)|\n",
      "| 122896|Pirates of the Ca...|(no genres listed)|\n",
      "| 129250|   Superfast! (2015)|(no genres listed)|\n",
      "| 132084| Let It Be Me (1995)|(no genres listed)|\n",
      "| 134861|Trevor Noah: Afri...|(no genres listed)|\n",
      "| 141131|    Guardians (2016)|(no genres listed)|\n",
      "| 141866|   Green Room (2015)|(no genres listed)|\n",
      "| 142456|The Brand New Tes...|(no genres listed)|\n",
      "| 143410|          Hyena Road|(no genres listed)|\n",
      "| 147250|The Adventures of...|(no genres listed)|\n",
      "| 149330|A Cosmic Christma...|(no genres listed)|\n",
      "| 152037|  Grease Live (2016)|(no genres listed)|\n",
      "| 155589|Noin 7 veljestä (...|(no genres listed)|\n",
      "| 156605|            Paterson|(no genres listed)|\n",
      "| 159161|Ali Wong: Baby Co...|(no genres listed)|\n",
      "| 159779|A Midsummer Night...|(no genres listed)|\n",
      "| 161008|The Forbidden Dan...|(no genres listed)|\n",
      "| 165489|Ethel & Ernest (2...|(no genres listed)|\n",
      "| 166024|     Whiplash (2013)|(no genres listed)|\n",
      "+-------+--------------------+------------------+\n",
      "only showing top 20 rows\n",
      "\n"
     ]
    }
   ],
   "source": [
    "df.filter(df.genres==\"(no genres listed)\").show()"
   ]
  },
  {
   "cell_type": "markdown",
   "id": "2d246701",
   "metadata": {},
   "source": [
    "## Ratings Dataset :"
   ]
  },
  {
   "cell_type": "code",
   "execution_count": 20,
   "id": "a3aec110",
   "metadata": {},
   "outputs": [],
   "source": [
    "ratings_path='ratings.csv'"
   ]
  },
  {
   "cell_type": "code",
   "execution_count": 21,
   "id": "96c9ffe9",
   "metadata": {},
   "outputs": [],
   "source": [
    "ratingsdf=spark.read.csv(ratings_path,header=True)"
   ]
  },
  {
   "cell_type": "markdown",
   "id": "f78d8ec9",
   "metadata": {},
   "source": [
    "We will not pass a schema and the spark framework will handle it own by assigning it to the StringType by default . We will check it with using df.schema command"
   ]
  },
  {
   "cell_type": "code",
   "execution_count": 22,
   "id": "bce4bbcb",
   "metadata": {},
   "outputs": [
    {
     "data": {
      "text/plain": [
       "<bound method DataFrame.show of DataFrame[userId: string, movieId: string, rating: string, timestamp: string]>"
      ]
     },
     "execution_count": 22,
     "metadata": {},
     "output_type": "execute_result"
    }
   ],
   "source": [
    "ratingsdf.show"
   ]
  },
  {
   "cell_type": "code",
   "execution_count": 23,
   "id": "43d8dc8c",
   "metadata": {},
   "outputs": [
    {
     "data": {
      "text/plain": [
       "StructType(List(StructField(userId,StringType,true),StructField(movieId,StringType,true),StructField(rating,StringType,true),StructField(timestamp,StringType,true)))"
      ]
     },
     "execution_count": 23,
     "metadata": {},
     "output_type": "execute_result"
    }
   ],
   "source": [
    "ratingsdf.schema"
   ]
  },
  {
   "cell_type": "code",
   "execution_count": 24,
   "id": "f763d64c",
   "metadata": {},
   "outputs": [
    {
     "name": "stdout",
     "output_type": "stream",
     "text": [
      "+------+-------+------+---------+\n",
      "|userId|movieId|rating|timestamp|\n",
      "+------+-------+------+---------+\n",
      "|     1|      1|   4.0|964982703|\n",
      "|     1|      3|   4.0|964981247|\n",
      "|     1|      6|   4.0|964982224|\n",
      "|     1|     47|   5.0|964983815|\n",
      "|     1|     50|   5.0|964982931|\n",
      "|     1|     70|   3.0|964982400|\n",
      "|     1|    101|   5.0|964980868|\n",
      "|     1|    110|   4.0|964982176|\n",
      "|     1|    151|   5.0|964984041|\n",
      "|     1|    157|   5.0|964984100|\n",
      "|     1|    163|   5.0|964983650|\n",
      "|     1|    216|   5.0|964981208|\n",
      "|     1|    223|   3.0|964980985|\n",
      "|     1|    231|   5.0|964981179|\n",
      "|     1|    235|   4.0|964980908|\n",
      "|     1|    260|   5.0|964981680|\n",
      "|     1|    296|   3.0|964982967|\n",
      "|     1|    316|   3.0|964982310|\n",
      "|     1|    333|   5.0|964981179|\n",
      "|     1|    349|   4.0|964982563|\n",
      "+------+-------+------+---------+\n",
      "only showing top 20 rows\n",
      "\n"
     ]
    }
   ],
   "source": [
    "ratingsdf.show()"
   ]
  },
  {
   "cell_type": "markdown",
   "id": "1e47a4f4",
   "metadata": {},
   "source": [
    "    As we notice , we have movieId as the common primary key in both dataframes , so we can join the 2 dataframes but with some conditions and get a full view , we will get one dataframe with full information ."
   ]
  },
  {
   "cell_type": "code",
   "execution_count": 25,
   "id": "0ffd8827",
   "metadata": {},
   "outputs": [],
   "source": [
    "joindf=moviesdf.join(ratingsdf,moviesdf.movieId==ratingsdf.movieId).drop(ratingsdf.movieId)"
   ]
  },
  {
   "cell_type": "code",
   "execution_count": 26,
   "id": "d02b70b8",
   "metadata": {
    "scrolled": true
   },
   "outputs": [
    {
     "name": "stdout",
     "output_type": "stream",
     "text": [
      "+-------+--------------------+--------------------+------+------+---------+\n",
      "|movieId|               title|              genres|userId|rating|timestamp|\n",
      "+-------+--------------------+--------------------+------+------+---------+\n",
      "|      1|    Toy Story (1995)|Adventure|Animati...|     1|   4.0|964982703|\n",
      "|      3|Grumpier Old Men ...|      Comedy|Romance|     1|   4.0|964981247|\n",
      "|      6|         Heat (1995)|Action|Crime|Thri...|     1|   4.0|964982224|\n",
      "|     47|Seven (a.k.a. Se7...|    Mystery|Thriller|     1|   5.0|964983815|\n",
      "|     50|Usual Suspects, T...|Crime|Mystery|Thr...|     1|   5.0|964982931|\n",
      "|     70|From Dusk Till Da...|Action|Comedy|Hor...|     1|   3.0|964982400|\n",
      "|    101|Bottle Rocket (1996)|Adventure|Comedy|...|     1|   5.0|964980868|\n",
      "|    110|   Braveheart (1995)|    Action|Drama|War|     1|   4.0|964982176|\n",
      "|    151|      Rob Roy (1995)|Action|Drama|Roma...|     1|   5.0|964984041|\n",
      "|    157|Canadian Bacon (1...|          Comedy|War|     1|   5.0|964984100|\n",
      "|    163|    Desperado (1995)|Action|Romance|We...|     1|   5.0|964983650|\n",
      "|    216|Billy Madison (1995)|              Comedy|     1|   5.0|964981208|\n",
      "|    223|       Clerks (1994)|              Comedy|     1|   3.0|964980985|\n",
      "|    231|Dumb & Dumber (Du...|    Adventure|Comedy|     1|   5.0|964981179|\n",
      "|    235|      Ed Wood (1994)|        Comedy|Drama|     1|   4.0|964980908|\n",
      "|    260|Star Wars: Episod...|Action|Adventure|...|     1|   5.0|964981680|\n",
      "|    296| Pulp Fiction (1994)|Comedy|Crime|Dram...|     1|   3.0|964982967|\n",
      "|    316|     Stargate (1994)|Action|Adventure|...|     1|   3.0|964982310|\n",
      "|    333|    Tommy Boy (1995)|              Comedy|     1|   5.0|964981179|\n",
      "|    349|Clear and Present...|Action|Crime|Dram...|     1|   4.0|964982563|\n",
      "+-------+--------------------+--------------------+------+------+---------+\n",
      "only showing top 20 rows\n",
      "\n"
     ]
    }
   ],
   "source": [
    "joindf.show()"
   ]
  },
  {
   "cell_type": "markdown",
   "id": "d2acf5b3",
   "metadata": {},
   "source": [
    "moviedf is in the left table and ratingsdf is the right table .\n",
    "This is inner join when both of the movie id matches , we get the result and hence movieId column is present in both dataframes ."
   ]
  },
  {
   "cell_type": "code",
   "execution_count": 27,
   "id": "3a44aa77",
   "metadata": {},
   "outputs": [],
   "source": [
    "joindf2=moviesdf.join(ratingsdf,on=['movieId'],how='outer').drop(ratingsdf.movieId)"
   ]
  },
  {
   "cell_type": "code",
   "execution_count": 28,
   "id": "b1d04723",
   "metadata": {
    "scrolled": true
   },
   "outputs": [
    {
     "name": "stdout",
     "output_type": "stream",
     "text": [
      "+-------+--------------------+------+------+------+----------+\n",
      "|movieId|               title|genres|userId|rating| timestamp|\n",
      "+-------+--------------------+------+------+------+----------+\n",
      "|    148|Awfully Big Adven...| Drama|   191|   5.0| 829760897|\n",
      "|    471|Hudsucker Proxy, ...|Comedy|    32|   3.0| 856737165|\n",
      "|    471|Hudsucker Proxy, ...|Comedy|    57|   3.0| 969753604|\n",
      "|    471|Hudsucker Proxy, ...|Comedy|    91|   1.0|1112713817|\n",
      "|    471|Hudsucker Proxy, ...|Comedy|   104|   4.5|1238111129|\n",
      "|    471|Hudsucker Proxy, ...|Comedy|   133|   4.0| 843491793|\n",
      "|    471|Hudsucker Proxy, ...|Comedy|   136|   4.0| 832450058|\n",
      "|    471|Hudsucker Proxy, ...|Comedy|   171|   3.0| 866905683|\n",
      "|    471|Hudsucker Proxy, ...|Comedy|   176|   5.0| 840109075|\n",
      "|    471|Hudsucker Proxy, ...|Comedy|   182|   4.5|1054779644|\n",
      "|    471|Hudsucker Proxy, ...|Comedy|   216|   3.0| 975212641|\n",
      "|    471|Hudsucker Proxy, ...|Comedy|   217|   2.0| 955943727|\n",
      "|    471|Hudsucker Proxy, ...|Comedy|   218|   4.0|1111624874|\n",
      "|    471|Hudsucker Proxy, ...|Comedy|   260|   4.5|1109409455|\n",
      "|    471|Hudsucker Proxy, ...|Comedy|   273|   5.0| 835861348|\n",
      "|    471|Hudsucker Proxy, ...|Comedy|   287|   4.5|1110231536|\n",
      "|    471|Hudsucker Proxy, ...|Comedy|   312|   4.0|1043175564|\n",
      "|    471|Hudsucker Proxy, ...|Comedy|   357|   3.5|1348627082|\n",
      "|    471|Hudsucker Proxy, ...|Comedy|   372|   3.0| 874415126|\n",
      "|    471|Hudsucker Proxy, ...|Comedy|   373|   5.0| 846830388|\n",
      "+-------+--------------------+------+------+------+----------+\n",
      "only showing top 20 rows\n",
      "\n"
     ]
    }
   ],
   "source": [
    "joindf2.show()"
   ]
  },
  {
   "cell_type": "markdown",
   "id": "fd526053",
   "metadata": {},
   "source": [
    "Find out top 10 favorite movies (highly rated) and worst (low rated) by a user (for example let user-id be 544)"
   ]
  },
  {
   "cell_type": "code",
   "execution_count": 33,
   "id": "59b668ec",
   "metadata": {},
   "outputs": [
    {
     "name": "stdout",
     "output_type": "stream",
     "text": [
      "+-------+-----+------+------+------+---------+\n",
      "|movieId|title|genres|userId|rating|timestamp|\n",
      "+-------+-----+------+------+------+---------+\n",
      "+-------+-----+------+------+------+---------+\n",
      "\n"
     ]
    }
   ],
   "source": [
    "joindf.where((joindf.userId=='471')&(joindf.rating=='4')).show()"
   ]
  }
 ],
 "metadata": {
  "kernelspec": {
   "display_name": "Python 3",
   "language": "python",
   "name": "python3"
  },
  "language_info": {
   "codemirror_mode": {
    "name": "ipython",
    "version": 3
   },
   "file_extension": ".py",
   "mimetype": "text/x-python",
   "name": "python",
   "nbconvert_exporter": "python",
   "pygments_lexer": "ipython3",
   "version": "3.8.8"
  }
 },
 "nbformat": 4,
 "nbformat_minor": 5
}
